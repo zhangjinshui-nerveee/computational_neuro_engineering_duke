{
 "cells": [
  {
   "cell_type": "code",
   "execution_count": 1,
   "id": "0bd2d9b5-8348-447e-bfd0-ebec27b5aca4",
   "metadata": {},
   "outputs": [
    {
     "name": "stderr",
     "output_type": "stream",
     "text": [
      "WARNING    Cannot use Cython, a test compilation failed: Microsoft Visual C++ 14.0 or greater is required. Get it with \"Microsoft C++ Build Tools\": https://visualstudio.microsoft.com/visual-cpp-build-tools/ (DistutilsPlatformError) [brian2.codegen.runtime.cython_rt.cython_rt.failed_compile_test]\n",
      "INFO       Cannot use compiled code, falling back to the numpy code generation target. Note that this will likely be slower than using compiled code. Set the code generation to numpy manually to avoid this message:\n",
      "prefs.codegen.target = \"numpy\" [brian2.devices.device.codegen_fallback]\n"
     ]
    },
    {
     "name": "stdout",
     "output_type": "stream",
     "text": [
      "Starting simulation at t=0. s for a duration of 5. ms\n",
      "5. ms (100%) simulated in < 1s\n",
      "Starting simulation at t=5. ms for a duration of 1. ms\n",
      "1. ms (100%) simulated in < 1s\n"
     ]
    },
    {
     "data": {
      "image/png": "[encoded data removed]",
      "text/plain": [
       "<Figure size 432x288 with 1 Axes>"
      ]
     },
     "metadata": {
      "needs_background": "light"
     },
     "output_type": "display_data"
    },
    {
     "name": "stdout",
     "output_type": "stream",
     "text": [
      "Script took 2.015176296234131 seconds.\n"
     ]
    }
   ],
   "source": [
    "from brian2 import *\n",
    "import time\n",
    "\n",
    "start = time.time()\n",
    "num_neurons = 2\n",
    "\n",
    "# Parameters\n",
    "area=20000*umetre**2\n",
    "Cm = 1*ufarad*cm**-2\n",
    "El = 10.613*mV\n",
    "EK = -12.0*mV\n",
    "ENa = 115.0*mV\n",
    "E_rest = 0*mV\n",
    "\n",
    "gl = 0.3*(msiemens)/(cm**2)\n",
    "gNa = 120.0*(msiemens)/(cm**2)\n",
    "gK = 36.0*(msiemens)/(cm**2)\n",
    "defaultclock.dt=.1*ms\n",
    "div=defaultclock.dt\n",
    "\n",
    "#The model\n",
    "eqs_ina = '''\n",
    "    ina=gNa * m**3 * h * (ENa-(v)) :  amp/meter**2\n",
    "    \n",
    "    dm/dt = alpham * (1-m) - betam * m : 1\n",
    "    dh/dt = alphah * (1-h) - betah * h : 1\n",
    "    \n",
    "    alpham = (0.1/mV) * (-v+25.0*mV) / (exp((-v+25.0*mV) / (10.0*mV)) - 1.0) /ms : Hz\n",
    "    betam = 4.0*exp(-v/(18.0*mV))/ms : Hz\n",
    "    alphah = 0.07*exp(-v/(20.0*mV))/ms : Hz\n",
    "    betah = 1.0/(exp((-v+30.0*mV) / (10.0*mV))+1.0)/ms : Hz\n",
    "    '''\n",
    "\n",
    "eqs_ik = '''\n",
    "    ik=gK * n**4 * (EK-v):amp/meter**2\n",
    "    \n",
    "    dn/dt = alphan * (1.0-n) - betan * n : 1\n",
    "    \n",
    "    alphan = (0.01/mV) * (-v+10.0*mV) / (exp((-v+10.0*mV) / (10.0*mV)) - 1.0)/ms : Hz\n",
    "    betan = 0.125*exp(-v/(80.0*mV))/ms : Hz\n",
    "    '''\n",
    "\n",
    "eqs_il = '''\n",
    "    il = gl * (El-v) :amp/meter**2\n",
    "    '''\n",
    "\n",
    "eqs = '''\n",
    "    dv/dt = (ina+ik+il +I/area)/Cm :  volt\n",
    "    I : amp\n",
    "    '''\n",
    "eqs += (eqs_ina+eqs_ik+eqs_il)\n",
    "\n",
    "# Threshold and refractoriness are only used for spike counting\n",
    "group = NeuronGroup(num_neurons, eqs,clock=Clock(defaultclock.dt),\n",
    "                    threshold='v > -40*mV',\n",
    "                    refractory='v > -40*mV',\n",
    "                    method='exponential_euler')\n",
    "group.v = 0*mV\n",
    "group.m=0.0529\n",
    "group.n=0.3177\n",
    "group.h=0.596\n",
    "\n",
    "monitor2=StateMonitor(group,'v',record=True)\n",
    "group.I = 0*nA\n",
    "run(5.0*ms,report='text')\n",
    "group.I[0] = 1.50*nA\n",
    "group.I[1] = 1.90*nA\n",
    "run(1*ms, report='text')\n",
    "group.I = 0*nA\n",
    "run(14.0*ms)\n",
    "\n",
    "\n",
    "figure(1)\n",
    "plot(monitor2.t/ms, monitor2.v[0]/mV) #plot the voltage for neuron 0 (index starts at 0)\n",
    "plot(monitor2.t/ms, monitor2.v[1]/mV) #plot the voltage for neuron 0 (index starts at 0)\n",
    "ylim(-20,120) #set axes limits\n",
    "xlim(0,20)\n",
    "xlabel('Time (ms)')\n",
    "ylabel('Voltage (mV)')\n",
    "title('Hodgkin-Huxley Action Potential, Rest Potential = 0mV')\n",
    "\n",
    "#You can dump your results to a file to visualize separately\n",
    "savetxt('Vmdata.dat',(monitor2.t/ms, monitor2.v[0]/mV))\n",
    "#out=np.loadtxt('Vmdata.dat')\n",
    "#plot(out[0],out[1])\n",
    "show()\n",
    "print('Script took', time.time()-start, 'seconds.')\n"
   ]
  }
 ],
 "metadata": {
  "kernelspec": {
   "display_name": "Python 3 (ipykernel)",
   "language": "python",
   "name": "python3"
  },
  "language_info": {
   "codemirror_mode": {
    "name": "ipython",
    "version": 3
   },
   "file_extension": ".py",
   "mimetype": "text/x-python",
   "name": "python",
   "nbconvert_exporter": "python",
   "pygments_lexer": "ipython3",
   "version": "3.9.7"
  }
 },
 "nbformat": 4,
 "nbformat_minor": 5
}
